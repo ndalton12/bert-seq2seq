{
  "cells": [
    {
      "metadata": {
        "trusted": true,
        "_uuid": "3ac28581fbb945c5eb8bc891284c3bfef6233782"
      },
      "cell_type": "code",
      "source": "%matplotlib inline",
      "execution_count": null,
      "outputs": []
    },
    {
      "metadata": {
        "_uuid": "16bbd6a3f1cb08b3cc4683eaa2028817cce43f27"
      },
      "cell_type": "markdown",
      "source": "\nTranslation with a Sequence to Sequence Network and Attention\n*************************************************************\n**Author**: `Sean Robertson <https://github.com/spro/practical-pytorch>`_\n\nIn this project we will be teaching a neural network to translate from\nFrench to English.\n\n::\n\n    [KEY: > input, = target, < output]\n\n    > il est en train de peindre un tableau .\n    = he is painting a picture .\n    < he is painting a picture .\n\n    > pourquoi ne pas essayer ce vin delicieux ?\n    = why not try that delicious wine ?\n    < why not try that delicious wine ?\n\n    > elle n est pas poete mais romanciere .\n    = she is not a poet but a novelist .\n    < she not not a poet but a novelist .\n\n    > vous etes trop maigre .\n    = you re too skinny .\n    < you re all alone .\n\n... to varying degrees of success.\n\nThis is made possible by the simple but powerful idea of the `sequence\nto sequence network <http://arxiv.org/abs/1409.3215>`__, in which two\nrecurrent neural networks work together to transform one sequence to\nanother. An encoder network condenses an input sequence into a vector,\nand a decoder network unfolds that vector into a new sequence.\n\n.. figure:: /_static/img/seq-seq-images/seq2seq.png\n   :alt:\n\nTo improve upon this model we'll use an `attention\nmechanism <https://arxiv.org/abs/1409.0473>`__, which lets the decoder\nlearn to focus over a specific range of the input sequence.\n\n**Recommended Reading:**\n\nI assume you have at least installed PyTorch, know Python, and\nunderstand Tensors:\n\n-  https://pytorch.org/ For installation instructions\n-  :doc:`/beginner/deep_learning_60min_blitz` to get started with PyTorch in general\n-  :doc:`/beginner/pytorch_with_examples` for a wide and deep overview\n-  :doc:`/beginner/former_torchies_tutorial` if you are former Lua Torch user\n\n\nIt would also be useful to know about Sequence to Sequence networks and\nhow they work:\n\n-  `Learning Phrase Representations using RNN Encoder-Decoder for\n   Statistical Machine Translation <http://arxiv.org/abs/1406.1078>`__\n-  `Sequence to Sequence Learning with Neural\n   Networks <http://arxiv.org/abs/1409.3215>`__\n-  `Neural Machine Translation by Jointly Learning to Align and\n   Translate <https://arxiv.org/abs/1409.0473>`__\n-  `A Neural Conversational Model <http://arxiv.org/abs/1506.05869>`__\n\nYou will also find the previous tutorials on\n:doc:`/intermediate/char_rnn_classification_tutorial`\nand :doc:`/intermediate/char_rnn_generation_tutorial`\nhelpful as those concepts are very similar to the Encoder and Decoder\nmodels, respectively.\n\nAnd for more, read the papers that introduced these topics:\n\n-  `Learning Phrase Representations using RNN Encoder-Decoder for\n   Statistical Machine Translation <http://arxiv.org/abs/1406.1078>`__\n-  `Sequence to Sequence Learning with Neural\n   Networks <http://arxiv.org/abs/1409.3215>`__\n-  `Neural Machine Translation by Jointly Learning to Align and\n   Translate <https://arxiv.org/abs/1409.0473>`__\n-  `A Neural Conversational Model <http://arxiv.org/abs/1506.05869>`__\n\n\n**Requirements**\n\n"
    },
    {
      "metadata": {
        "trusted": true,
        "_uuid": "6a98cb3604f081d7148c59bcd8a7a1308ac4f7b8"
      },
      "cell_type": "code",
      "source": "from __future__ import unicode_literals, print_function, division\nfrom io import open\nimport unicodedata\nimport string\nimport re\nimport random\n\nimport torch\nimport torch.nn as nn\nfrom torch import optim\nimport torch.nn.functional as F\n\ndevice = torch.device(\"cuda\" if torch.cuda.is_available() else \"cpu\")\nprint(device)",
      "execution_count": null,
      "outputs": []
    },
    {
      "metadata": {
        "trusted": true,
        "_uuid": "0c3fb554fb79e3757add40f9c99bfb9455d96a02"
      },
      "cell_type": "code",
      "source": "print(torch.__version__)",
      "execution_count": null,
      "outputs": []
    },
    {
      "metadata": {
        "_uuid": "c4afa12d70a6d159fd015016819c0fc8e4dadf26"
      },
      "cell_type": "markdown",
      "source": "Loading data files\n==================\n\nThe data for this project is a set of many thousands of English to\nFrench translation pairs.\n\n`This question on Open Data Stack\nExchange <http://opendata.stackexchange.com/questions/3888/dataset-of-sentences-translated-into-many-languages>`__\npointed me to the open translation site http://tatoeba.org/ which has\ndownloads available at http://tatoeba.org/eng/downloads - and better\nyet, someone did the extra work of splitting language pairs into\nindividual text files here: http://www.manythings.org/anki/\n\nThe English to French pairs are too big to include in the repo, so\ndownload to ``data/eng-fra.txt`` before continuing. The file is a tab\nseparated list of translation pairs:\n\n::\n\n    I am cold.    J'ai froid.\n\n.. Note::\n   Download the data from\n   `here <https://download.pytorch.org/tutorial/data.zip>`_\n   and extract it to the current directory.\n\n"
    },
    {
      "metadata": {
        "_uuid": "4771b612109d0ad866baabe31fa77361025fa450"
      },
      "cell_type": "markdown",
      "source": "Similar to the character encoding used in the character-level RNN\ntutorials, we will be representing each word in a language as a one-hot\nvector, or giant vector of zeros except for a single one (at the index\nof the word). Compared to the dozens of characters that might exist in a\nlanguage, there are many many more words, so the encoding vector is much\nlarger. We will however cheat a bit and trim the data to only use a few\nthousand words per language.\n\n.. figure:: /_static/img/seq-seq-images/word-encoding.png\n   :alt:\n\n\n\n"
    },
    {
      "metadata": {
        "_uuid": "c6cc32378bbd59fc63c7b3f55c55078e80c82c5e"
      },
      "cell_type": "markdown",
      "source": "We'll need a unique index per word to use as the inputs and targets of\nthe networks later. To keep track of all this we will use a helper class\ncalled ``Lang`` which has word → index (``word2index``) and index → word\n(``index2word``) dictionaries, as well as a count of each word\n``word2count`` to use to later replace rare words.\n\n\n"
    },
    {
      "metadata": {
        "trusted": true,
        "_uuid": "40a8bd1a95b092458c706dcf2c53935aa48ef694"
      },
      "cell_type": "code",
      "source": "SOS_token = 0\nEOS_token = 1\n\n\nclass Lang:\n    def __init__(self, name):\n        self.name = name\n        self.word2index = {}\n        self.word2count = {}\n        self.index2word = {0: \"SOS\", 1: \"EOS\"}\n        self.n_words = 2  # Count SOS and EOS\n\n    def addSentence(self, sentence):\n        for word in sentence.split(' '):\n            self.addWord(word)\n\n    def addWord(self, word):\n        if word not in self.word2index:\n            self.word2index[word] = self.n_words\n            self.word2count[word] = 1\n            self.index2word[self.n_words] = word\n            self.n_words += 1\n        else:\n            self.word2count[word] += 1",
      "execution_count": null,
      "outputs": []
    },
    {
      "metadata": {
        "_uuid": "b5a8dd02cc3e77f614b0a29c5777127e2a24c95e"
      },
      "cell_type": "markdown",
      "source": "The files are all in Unicode, to simplify we will turn Unicode\ncharacters to ASCII, make everything lowercase, and trim most\npunctuation.\n\n\n"
    },
    {
      "metadata": {
        "trusted": true,
        "_uuid": "937163fbe359e7df853b4a8c1d4633a0221a8885"
      },
      "cell_type": "code",
      "source": "# Turn a Unicode string to plain ASCII, thanks to\n# http://stackoverflow.com/a/518232/2809427\ndef unicodeToAscii(s):\n    return ''.join(\n        c for c in unicodedata.normalize('NFD', s)\n        if unicodedata.category(c) != 'Mn'\n    )\n\n# Lowercase, trim, and remove non-letter characters\n\n\ndef normalizeString(s):\n    s = unicodeToAscii(s.lower().strip())\n    s = re.sub(r\"([.!?])\", r\" \\1\", s)\n    s = re.sub(r\"[^a-zA-Z.!?]+\", r\" \", s)\n    return s",
      "execution_count": null,
      "outputs": []
    },
    {
      "metadata": {
        "_uuid": "9f26c6f7549b345f228d7373831a4717383974c2"
      },
      "cell_type": "markdown",
      "source": "To read the data file we will split the file into lines, and then split\nlines into pairs. The files are all English → Other Language, so if we\nwant to translate from Other Language → English I added the ``reverse``\nflag to reverse the pairs.\n\n\n"
    },
    {
      "metadata": {
        "trusted": true,
        "_uuid": "df03c45c49831dc2ad014df4a504426765cf082f"
      },
      "cell_type": "code",
      "source": "def readLangs(lang1, lang2, reverse=False):\n    print(\"Reading lines...\")\n\n    # Read the file and split into lines\n    lines = open('../input/%s-%s.txt' % (lang1, lang2), encoding='utf-8').\\\n        read().strip().split('\\n')\n\n    # Split every line into pairs and normalize\n    pairs = [[normalizeString(s) for s in l.split('\\t')] for l in lines]\n\n    # Reverse pairs, make Lang instances\n    if reverse:\n        pairs = [list(reversed(p)) for p in pairs]\n        input_lang = Lang(lang2)\n        output_lang = Lang(lang1)\n    else:\n        input_lang = Lang(lang1)\n        output_lang = Lang(lang2)\n\n    return input_lang, output_lang, pairs",
      "execution_count": null,
      "outputs": []
    },
    {
      "metadata": {
        "_uuid": "58c8a6d373a3371d4689641c86e8e355ce2e6fa6"
      },
      "cell_type": "markdown",
      "source": "Since there are a *lot* of example sentences and we want to train\nsomething quickly, we'll trim the data set to only relatively short and\nsimple sentences. Here the maximum length is 10 words (that includes\nending punctuation) and we're filtering to sentences that translate to\nthe form \"I am\" or \"He is\" etc. (accounting for apostrophes replaced\nearlier).\n\n\n"
    },
    {
      "metadata": {
        "trusted": true,
        "_uuid": "ecd7636f1154d22f92b426b8174bbc1ced028ea4"
      },
      "cell_type": "code",
      "source": "MAX_LENGTH = 10\n\neng_prefixes = (\n    \"i am \", \"i m \",\n    \"he is\", \"he s \",\n    \"she is\", \"she s\",\n    \"you are\", \"you re \",\n    \"we are\", \"we re \",\n    \"they are\", \"they re \"\n)\n\n\ndef filterPair(p):\n    return len(p[0].split(' ')) < MAX_LENGTH and \\\n        len(p[1].split(' ')) < MAX_LENGTH and \\\n        p[1].startswith(eng_prefixes)\n\n\ndef filterPairs(pairs):\n    return [pair for pair in pairs if filterPair(pair)]",
      "execution_count": null,
      "outputs": []
    },
    {
      "metadata": {
        "_uuid": "e539014d1cb2cb3a57c9fa3d242182f00e3b7f09"
      },
      "cell_type": "markdown",
      "source": "The full process for preparing the data is:\n\n-  Read text file and split into lines, split lines into pairs\n-  Normalize text, filter by length and content\n-  Make word lists from sentences in pairs\n\n\n"
    },
    {
      "metadata": {
        "trusted": true,
        "_uuid": "42e89d50f18d85e04cc4eeb8ddbb872660fb30e3"
      },
      "cell_type": "code",
      "source": "def prepareData(lang1, lang2, reverse=False):\n    input_lang, output_lang, pairs = readLangs(lang1, lang2, reverse)\n    print(\"Read %s sentence pairs\" % len(pairs))\n    pairs = filterPairs(pairs)\n    print(\"Trimmed to %s sentence pairs\" % len(pairs))\n    print(\"Counting words...\")\n    for pair in pairs:\n        input_lang.addSentence(pair[0])\n        output_lang.addSentence(pair[1])\n    print(\"Counted words:\")\n    print(input_lang.name, input_lang.n_words)\n    print(output_lang.name, output_lang.n_words)\n    return input_lang, output_lang, pairs\n\n\ninput_lang, output_lang, pairs = prepareData('eng', 'fra', True)\nprint(random.choice(pairs))",
      "execution_count": null,
      "outputs": []
    },
    {
      "metadata": {
        "_uuid": "35448a710694e731fefed60118136370abbf11cf"
      },
      "cell_type": "markdown",
      "source": "The Seq2Seq Model\n=================\n\nA Recurrent Neural Network, or RNN, is a network that operates on a\nsequence and uses its own output as input for subsequent steps.\n\nA `Sequence to Sequence network <http://arxiv.org/abs/1409.3215>`__, or\nseq2seq network, or `Encoder Decoder\nnetwork <https://arxiv.org/pdf/1406.1078v3.pdf>`__, is a model\nconsisting of two RNNs called the encoder and decoder. The encoder reads\nan input sequence and outputs a single vector, and the decoder reads\nthat vector to produce an output sequence.\n\n.. figure:: /_static/img/seq-seq-images/seq2seq.png\n   :alt:\n\nUnlike sequence prediction with a single RNN, where every input\ncorresponds to an output, the seq2seq model frees us from sequence\nlength and order, which makes it ideal for translation between two\nlanguages.\n\nConsider the sentence \"Je ne suis pas le chat noir\" → \"I am not the\nblack cat\". Most of the words in the input sentence have a direct\ntranslation in the output sentence, but are in slightly different\norders, e.g. \"chat noir\" and \"black cat\". Because of the \"ne/pas\"\nconstruction there is also one more word in the input sentence. It would\nbe difficult to produce a correct translation directly from the sequence\nof input words.\n\nWith a seq2seq model the encoder creates a single vector which, in the\nideal case, encodes the \"meaning\" of the input sequence into a single\nvector — a single point in some N dimensional space of sentences.\n\n\n"
    },
    {
      "metadata": {
        "_uuid": "98703e7a6a7a6d761f9b51162b800aa6b96c2754"
      },
      "cell_type": "markdown",
      "source": "The Encoder\n-----------\n\nThe encoder of a seq2seq network is a RNN that outputs some value for\nevery word from the input sentence. For every input word the encoder\noutputs a vector and a hidden state, and uses the hidden state for the\nnext input word.\n\n.. figure:: /_static/img/seq-seq-images/encoder-network.png\n   :alt:\n\n\n\n"
    },
    {
      "metadata": {
        "trusted": true,
        "_uuid": "f2c00be0d5acde2d9e3bb27845b67df209eb9128"
      },
      "cell_type": "code",
      "source": "class EncoderRNN(nn.Module):\n    def __init__(self, input_size, hidden_size):\n        super(EncoderRNN, self).__init__()\n        self.hidden_size = hidden_size\n\n        self.embedding = nn.Embedding(input_size, hidden_size)\n        self.gru = nn.GRU(hidden_size, hidden_size)\n\n    def forward(self, input, hidden):\n        embedded = self.embedding(input).view(1, 1, -1)\n        output = embedded\n        output, hidden = self.gru(output, hidden)\n        return output, hidden\n\n    def initHidden(self):\n        return torch.zeros(1, 1, self.hidden_size, device=device)",
      "execution_count": null,
      "outputs": []
    },
    {
      "metadata": {
        "_uuid": "b9dfeab44ade50c9b7b10c947c52f099ff5f183f"
      },
      "cell_type": "markdown",
      "source": "The Decoder\n-----------\n\nThe decoder is another RNN that takes the encoder output vector(s) and\noutputs a sequence of words to create the translation.\n\n\n"
    },
    {
      "metadata": {
        "_uuid": "ce3c015f6dc78b455cd2fd0f0814dc6f30bd8223"
      },
      "cell_type": "markdown",
      "source": "Simple Decoder\n^^^^^^^^^^^^^^\n\nIn the simplest seq2seq decoder we use only last output of the encoder.\nThis last output is sometimes called the *context vector* as it encodes\ncontext from the entire sequence. This context vector is used as the\ninitial hidden state of the decoder.\n\nAt every step of decoding, the decoder is given an input token and\nhidden state. The initial input token is the start-of-string ``<SOS>``\ntoken, and the first hidden state is the context vector (the encoder's\nlast hidden state).\n\n.. figure:: /_static/img/seq-seq-images/decoder-network.png\n   :alt:\n\n\n\n"
    },
    {
      "metadata": {
        "trusted": true,
        "_uuid": "b657886bd7765be31b1af3c309bc2e4a004e59dd"
      },
      "cell_type": "code",
      "source": "class DecoderRNN(nn.Module):\n    def __init__(self, hidden_size, output_size):\n        super(DecoderRNN, self).__init__()\n        self.hidden_size = hidden_size\n\n        self.embedding = nn.Embedding(output_size, hidden_size)\n        self.gru = nn.GRU(hidden_size, hidden_size)\n        self.out = nn.Linear(hidden_size, output_size)\n        self.softmax = nn.LogSoftmax(dim=1)\n\n    def forward(self, input, hidden):\n        output = self.embedding(input).view(1, 1, -1)\n        output = F.relu(output)\n        output, hidden = self.gru(output, hidden)\n        output = self.softmax(self.out(output[0]))\n        return output, hidden\n\n    def initHidden(self):\n        return torch.zeros(1, 1, self.hidden_size, device=device)",
      "execution_count": null,
      "outputs": []
    },
    {
      "metadata": {
        "_uuid": "977d92eeac7b1ca4a9644164b34d6037bfd32fca"
      },
      "cell_type": "markdown",
      "source": "I encourage you to train and observe the results of this model, but to\nsave space we'll be going straight for the gold and introducing the\nAttention Mechanism.\n\n\n"
    },
    {
      "metadata": {
        "_uuid": "aade1ec6764e0c91048529a760b19878e2c0fe19"
      },
      "cell_type": "markdown",
      "source": "Attention Decoder\n^^^^^^^^^^^^^^^^^\n\nIf only the context vector is passed betweeen the encoder and decoder,\nthat single vector carries the burden of encoding the entire sentence.\n\nAttention allows the decoder network to \"focus\" on a different part of\nthe encoder's outputs for every step of the decoder's own outputs. First\nwe calculate a set of *attention weights*. These will be multiplied by\nthe encoder output vectors to create a weighted combination. The result\n(called ``attn_applied`` in the code) should contain information about\nthat specific part of the input sequence, and thus help the decoder\nchoose the right output words.\n\n.. figure:: https://i.imgur.com/1152PYf.png\n   :alt:\n\nCalculating the attention weights is done with another feed-forward\nlayer ``attn``, using the decoder's input and hidden state as inputs.\nBecause there are sentences of all sizes in the training data, to\nactually create and train this layer we have to choose a maximum\nsentence length (input length, for encoder outputs) that it can apply\nto. Sentences of the maximum length will use all the attention weights,\nwhile shorter sentences will only use the first few.\n\n.. figure:: /_static/img/seq-seq-images/attention-decoder-network.png\n   :alt:\n\n\n\n"
    },
    {
      "metadata": {
        "trusted": true,
        "_uuid": "2c04793035e53e4fa92d24672c0dbea0443f7351"
      },
      "cell_type": "code",
      "source": "class AttnDecoderRNN(nn.Module):\n    def __init__(self, hidden_size, output_size, dropout_p=0.1, max_length=MAX_LENGTH):\n        super(AttnDecoderRNN, self).__init__()\n        self.hidden_size = hidden_size\n        self.output_size = output_size\n        self.dropout_p = dropout_p\n        self.max_length = max_length\n\n        self.embedding = nn.Embedding(self.output_size, self.hidden_size)\n        self.attn = nn.Linear(self.hidden_size * 2, self.max_length)\n        self.attn_combine = nn.Linear(self.hidden_size * 2, self.hidden_size)\n        self.dropout = nn.Dropout(self.dropout_p)\n        self.gru = nn.GRU(self.hidden_size, self.hidden_size)\n        self.out = nn.Linear(self.hidden_size, self.output_size)\n\n    def forward(self, input, hidden, encoder_outputs):\n        embedded = self.embedding(input).view(1, 1, -1)\n        embedded = self.dropout(embedded)\n\n        attn_weights = F.softmax(\n            F.relu(self.attn(torch.cat((embedded[0], hidden[0]), 1))), dim=1)\n        attn_applied = torch.bmm(attn_weights.unsqueeze(0),\n                                 encoder_outputs.unsqueeze(0))\n\n        output = torch.cat((embedded[0], attn_applied[0]), 1)\n        output = self.attn_combine(output).unsqueeze(0)\n\n        output = F.relu(output)\n        output, hidden = self.gru(output, hidden)\n\n        output = F.log_softmax(self.out(output[0]), dim=1)\n        return output, hidden, attn_weights\n\n    def initHidden(self):\n        return torch.zeros(1, 1, self.hidden_size, device=device)",
      "execution_count": null,
      "outputs": []
    },
    {
      "metadata": {
        "_uuid": "ebccbd3b86e885468046901853f687738aba5095"
      },
      "cell_type": "markdown",
      "source": "<div class=\"alert alert-info\"><h4>Note</h4><p>There are other forms of attention that work around the length\n  limitation by using a relative position approach. Read about \"local\n  attention\" in `Effective Approaches to Attention-based Neural Machine\n  Translation <https://arxiv.org/abs/1508.04025>`__.</p></div>\n\nTraining\n========\n\nPreparing Training Data\n-----------------------\n\nTo train, for each pair we will need an input tensor (indexes of the\nwords in the input sentence) and target tensor (indexes of the words in\nthe target sentence). While creating these vectors we will append the\nEOS token to both sequences.\n\n\n"
    },
    {
      "metadata": {
        "trusted": true,
        "_uuid": "1eb68ec3b718a6d97472e81c2f47c381e6c6b32e"
      },
      "cell_type": "code",
      "source": "def indexesFromSentence(lang, sentence):\n    return [lang.word2index[word] for word in sentence.split(' ')]\n\n\ndef tensorFromSentence(lang, sentence):\n    indexes = indexesFromSentence(lang, sentence)\n    indexes.append(EOS_token)\n    return torch.tensor(indexes, dtype=torch.long, device=device).view(-1, 1)\n\n\ndef tensorsFromPair(pair):\n    input_tensor = tensorFromSentence(input_lang, pair[0])\n    target_tensor = tensorFromSentence(output_lang, pair[1])\n    return (input_tensor, target_tensor)",
      "execution_count": null,
      "outputs": []
    },
    {
      "metadata": {
        "_uuid": "9e448dc6aa790780779b8616615c89df1e76a315"
      },
      "cell_type": "markdown",
      "source": "Training the Model\n------------------\n\nTo train we run the input sentence through the encoder, and keep track\nof every output and the latest hidden state. Then the decoder is given\nthe ``<SOS>`` token as its first input, and the last hidden state of the\nencoder as its first hidden state.\n\n\"Teacher forcing\" is the concept of using the real target outputs as\neach next input, instead of using the decoder's guess as the next input.\nUsing teacher forcing causes it to converge faster but `when the trained\nnetwork is exploited, it may exhibit\ninstability <http://minds.jacobs-university.de/sites/default/files/uploads/papers/ESNTutorialRev.pdf>`__.\n\nYou can observe outputs of teacher-forced networks that read with\ncoherent grammar but wander far from the correct translation -\nintuitively it has learned to represent the output grammar and can \"pick\nup\" the meaning once the teacher tells it the first few words, but it\nhas not properly learned how to create the sentence from the translation\nin the first place.\n\nBecause of the freedom PyTorch's autograd gives us, we can randomly\nchoose to use teacher forcing or not with a simple if statement. Turn\n``teacher_forcing_ratio`` up to use more of it.\n\n\n"
    },
    {
      "metadata": {
        "trusted": true,
        "_uuid": "a8f49c6934f831c5241fd4bb16effc2395dca004"
      },
      "cell_type": "code",
      "source": "teacher_forcing_ratio = 0.5\n\n\ndef train(input_tensor, target_tensor, encoder, decoder, encoder_optimizer, decoder_optimizer, criterion, max_length=MAX_LENGTH):\n    encoder_hidden = encoder.initHidden()\n\n    encoder_optimizer.zero_grad()\n    decoder_optimizer.zero_grad()\n\n    input_length = input_tensor.size(0)\n    target_length = target_tensor.size(0)\n\n    encoder_outputs = torch.zeros(max_length, encoder.hidden_size, device=device)\n\n    loss = 0\n\n    for ei in range(input_length):\n        encoder_output, encoder_hidden = encoder(\n            input_tensor[ei], encoder_hidden)\n        encoder_outputs[ei] = encoder_output[0, 0]\n\n    decoder_input = torch.tensor([[SOS_token]], device=device)\n\n    decoder_hidden = encoder_hidden\n\n    use_teacher_forcing = True if random.random() < teacher_forcing_ratio else False\n\n    if use_teacher_forcing:\n        # Teacher forcing: Feed the target as the next input\n        for di in range(target_length):\n            decoder_output, decoder_hidden, decoder_attention = decoder(\n                decoder_input, decoder_hidden, encoder_outputs)\n            loss += criterion(decoder_output, target_tensor[di])\n            decoder_input = target_tensor[di]  # Teacher forcing\n\n    else:\n        # Without teacher forcing: use its own predictions as the next input\n        for di in range(target_length):\n            decoder_output, decoder_hidden, decoder_attention = decoder(\n                decoder_input, decoder_hidden, encoder_outputs)\n            topv, topi = decoder_output.topk(1)\n            decoder_input = topi.squeeze().detach()  # detach from history as input\n\n            loss += criterion(decoder_output, target_tensor[di])\n            if decoder_input.item() == EOS_token:\n                break\n\n    loss.backward()\n\n    encoder_optimizer.step()\n    decoder_optimizer.step()\n\n    return loss.item() / target_length",
      "execution_count": null,
      "outputs": []
    },
    {
      "metadata": {
        "_uuid": "d6f665aaebcf00aca44da8e3159199d8340f7fab"
      },
      "cell_type": "markdown",
      "source": "This is a helper function to print time elapsed and estimated time\nremaining given the current time and progress %.\n\n\n"
    },
    {
      "metadata": {
        "trusted": true,
        "_uuid": "c7748638d2bec50da176509a8f88cd4acd3ef253"
      },
      "cell_type": "code",
      "source": "import time\nimport math\n\n\ndef asMinutes(s):\n    m = math.floor(s / 60)\n    s -= m * 60\n    return '%dm %ds' % (m, s)\n\n\ndef timeSince(since, percent):\n    now = time.time()\n    s = now - since\n    es = s / (percent)\n    rs = es - s\n    return '%s (- %s)' % (asMinutes(s), asMinutes(rs))",
      "execution_count": null,
      "outputs": []
    },
    {
      "metadata": {
        "_uuid": "fe8c5092cf7a7db4f070ebb71043b319d3aeb7ef"
      },
      "cell_type": "markdown",
      "source": "The whole training process looks like this:\n\n-  Start a timer\n-  Initialize optimizers and criterion\n-  Create set of training pairs\n-  Start empty losses array for plotting\n\nThen we call ``train`` many times and occasionally print the progress (%\nof examples, time so far, estimated time) and average loss.\n\n\n"
    },
    {
      "metadata": {
        "trusted": true,
        "_uuid": "f39d78a7b264f183a563747e0575ad1d144a8f07"
      },
      "cell_type": "code",
      "source": "def trainIters(encoder, decoder, n_iters, print_every=1000, plot_every=100, learning_rate=0.01):\n    start = time.time()\n    plot_losses = []\n    print_loss_total = 0  # Reset every print_every\n    plot_loss_total = 0  # Reset every plot_every\n\n    encoder_optimizer = optim.SGD(encoder.parameters(), lr=learning_rate)\n    decoder_optimizer = optim.SGD(decoder.parameters(), lr=learning_rate)\n    training_pairs = [tensorsFromPair(random.choice(pairs))\n                      for i in range(n_iters)]\n    criterion = nn.NLLLoss()\n\n    for iter in range(1, n_iters + 1):\n        training_pair = training_pairs[iter - 1]\n        input_tensor = training_pair[0]\n        target_tensor = training_pair[1]\n\n        loss = train(input_tensor, target_tensor, encoder,\n                     decoder, encoder_optimizer, decoder_optimizer, criterion)\n        print_loss_total += loss\n        plot_loss_total += loss\n\n        if iter % print_every == 0:\n            print_loss_avg = print_loss_total / print_every\n            print_loss_total = 0\n            print('%s (%d %d%%) %.4f' % (timeSince(start, iter / n_iters),\n                                         iter, iter / n_iters * 100, print_loss_avg))\n\n        if iter % plot_every == 0:\n            plot_loss_avg = plot_loss_total / plot_every\n            plot_losses.append(plot_loss_avg)\n            plot_loss_total = 0\n\n    showPlot(plot_losses)",
      "execution_count": null,
      "outputs": []
    },
    {
      "metadata": {
        "_uuid": "eef23e82db773d2062cb0150eac0c9a924f72ea7"
      },
      "cell_type": "markdown",
      "source": "Plotting results\n----------------\n\nPlotting is done with matplotlib, using the array of loss values\n``plot_losses`` saved while training.\n\n\n"
    },
    {
      "metadata": {
        "trusted": true,
        "_uuid": "9cb75c873c181951a2e943a52677fe5a8055a486"
      },
      "cell_type": "code",
      "source": "import matplotlib.pyplot as plt\nplt.switch_backend('agg')\nimport matplotlib.ticker as ticker\nimport numpy as np\n\n\ndef showPlot(points):\n    plt.figure()\n    fig, ax = plt.subplots()\n    # this locator puts ticks at regular intervals\n    loc = ticker.MultipleLocator(base=0.2)\n    ax.yaxis.set_major_locator(loc)\n    plt.plot(points)",
      "execution_count": null,
      "outputs": []
    },
    {
      "metadata": {
        "_uuid": "42c78c1f7d27e67a3e8f731c4a784af6d61e0c49"
      },
      "cell_type": "markdown",
      "source": "Evaluation\n==========\n\nEvaluation is mostly the same as training, but there are no targets so\nwe simply feed the decoder's predictions back to itself for each step.\nEvery time it predicts a word we add it to the output string, and if it\npredicts the EOS token we stop there. We also store the decoder's\nattention outputs for display later.\n\n\n"
    },
    {
      "metadata": {
        "trusted": true,
        "_uuid": "1d42a9084c8da525caa8cdb2d482eb0234aff651"
      },
      "cell_type": "code",
      "source": "def evaluate(encoder, decoder, sentence, max_length=MAX_LENGTH):\n    with torch.no_grad():\n        input_tensor = tensorFromSentence(input_lang, sentence)\n        input_length = input_tensor.size()[0]\n        encoder_hidden = encoder.initHidden()\n\n        encoder_outputs = torch.zeros(max_length, encoder.hidden_size, device=device)\n\n        for ei in range(input_length):\n            encoder_output, encoder_hidden = encoder(input_tensor[ei],\n                                                     encoder_hidden)\n            encoder_outputs[ei] += encoder_output[0, 0]\n\n        decoder_input = torch.tensor([[SOS_token]], device=device)  # SOS\n\n        decoder_hidden = encoder_hidden\n\n        decoded_words = []\n        decoder_attentions = torch.zeros(max_length, max_length)\n\n        for di in range(max_length):\n            decoder_output, decoder_hidden, decoder_attention = decoder(\n                decoder_input, decoder_hidden, encoder_outputs)\n            decoder_attentions[di] = decoder_attention.data\n            topv, topi = decoder_output.data.topk(1)\n            if topi.item() == EOS_token:\n                decoded_words.append('<EOS>')\n                break\n            else:\n                decoded_words.append(output_lang.index2word[topi.item()])\n\n            decoder_input = topi.squeeze().detach()\n\n        return decoded_words, decoder_attentions[:di + 1]",
      "execution_count": null,
      "outputs": []
    },
    {
      "metadata": {
        "_uuid": "6a4362c076c90c1dad90cbeebf81bdca1c72b884"
      },
      "cell_type": "markdown",
      "source": "We can evaluate random sentences from the training set and print out the\ninput, target, and output to make some subjective quality judgements:\n\n\n"
    },
    {
      "metadata": {
        "trusted": true,
        "_uuid": "3f98ce08bd64294067449affa53196287f9192d7"
      },
      "cell_type": "code",
      "source": "def evaluateRandomly(encoder, decoder, n=10):\n    for i in range(n):\n        pair = random.choice(pairs)\n        print('>', pair[0])\n        print('=', pair[1])\n        output_words, attentions = evaluate(encoder, decoder, pair[0])\n        output_sentence = ' '.join(output_words)\n        print('<', output_sentence)\n        print('')",
      "execution_count": null,
      "outputs": []
    },
    {
      "metadata": {
        "_uuid": "8b0db6a84994cabfc1ef437e6b7760ed2702b76f"
      },
      "cell_type": "markdown",
      "source": "Training and Evaluating\n=======================\n\nWith all these helper functions in place (it looks like extra work, but\nit makes it easier to run multiple experiments) we can actually\ninitialize a network and start training.\n\nRemember that the input sentences were heavily filtered. For this small\ndataset we can use relatively small networks of 256 hidden nodes and a\nsingle GRU layer. After about 40 minutes on a MacBook CPU we'll get some\nreasonable results.\n\n.. Note::\n   If you run this notebook you can train, interrupt the kernel,\n   evaluate, and continue training later. Comment out the lines where the\n   encoder and decoder are initialized and run ``trainIters`` again.\n\n\n"
    },
    {
      "metadata": {
        "trusted": true,
        "_uuid": "607e1ac9c22f100887d70ebfdb6869d5e9d13680"
      },
      "cell_type": "code",
      "source": "device = \"cuda\"",
      "execution_count": null,
      "outputs": []
    },
    {
      "metadata": {
        "trusted": true,
        "_uuid": "799bb6af2415e487dd136b6ff1502852da71dafe"
      },
      "cell_type": "code",
      "source": "hidden_size = 256\nencoder1 = EncoderRNN(input_lang.n_words, hidden_size).to(device)\nattn_decoder1 = AttnDecoderRNN(hidden_size, output_lang.n_words, dropout_p=0.1).to(device)\n\ntrainIters(encoder1, attn_decoder1, 75000, print_every=5000)",
      "execution_count": null,
      "outputs": []
    },
    {
      "metadata": {
        "trusted": true,
        "_uuid": "9c2c47dd27c261d3a81f79312af931cad8171fea"
      },
      "cell_type": "code",
      "source": "evaluateRandomly(encoder1, attn_decoder1)",
      "execution_count": null,
      "outputs": []
    },
    {
      "metadata": {
        "_uuid": "a02941a883a62a8731c17a128f096e49f14bde90"
      },
      "cell_type": "markdown",
      "source": "Visualizing Attention\n---------------------\n\nA useful property of the attention mechanism is its highly interpretable\noutputs. Because it is used to weight specific encoder outputs of the\ninput sequence, we can imagine looking where the network is focused most\nat each time step.\n\nYou could simply run ``plt.matshow(attentions)`` to see attention output\ndisplayed as a matrix, with the columns being input steps and rows being\noutput steps:\n\n\n"
    },
    {
      "metadata": {
        "trusted": true,
        "_uuid": "c3bc09b35f31baf5e3e5cd457313c9728e6831cb"
      },
      "cell_type": "code",
      "source": "output_words, attentions = evaluate(\n    encoder1, attn_decoder1, \"je suis trop froid .\")\nplt.matshow(attentions.numpy())",
      "execution_count": null,
      "outputs": []
    },
    {
      "metadata": {
        "_uuid": "0cc87c191d9a55700c62cce20c3f7562096e5111"
      },
      "cell_type": "markdown",
      "source": "For a better viewing experience we will do the extra work of adding axes\nand labels:\n\n\n"
    },
    {
      "metadata": {
        "trusted": true,
        "_uuid": "78bb5f4b6382872bbdf0a6d9ca7c56a6f2c9d47d"
      },
      "cell_type": "code",
      "source": "def showAttention(input_sentence, output_words, attentions):\n    # Set up figure with colorbar\n    fig = plt.figure()\n    ax = fig.add_subplot(111)\n    cax = ax.matshow(attentions.numpy(), cmap='bone')\n    fig.colorbar(cax)\n\n    # Set up axes\n    ax.set_xticklabels([''] + input_sentence.split(' ') +\n                       ['<EOS>'], rotation=90)\n    ax.set_yticklabels([''] + output_words)\n\n    # Show label at every tick\n    ax.xaxis.set_major_locator(ticker.MultipleLocator(1))\n    ax.yaxis.set_major_locator(ticker.MultipleLocator(1))\n\n    plt.show()\n\n\ndef evaluateAndShowAttention(input_sentence):\n    output_words, attentions = evaluate(\n        encoder1, attn_decoder1, input_sentence)\n    print('input =', input_sentence)\n    print('output =', ' '.join(output_words))\n    showAttention(input_sentence, output_words, attentions)\n\n\nevaluateAndShowAttention(\"elle a cinq ans de moins que moi .\")\n\nevaluateAndShowAttention(\"elle est trop petit .\")\n\nevaluateAndShowAttention(\"je ne crains pas de mourir .\")\n\nevaluateAndShowAttention(\"c est un jeune directeur plein de talent .\")",
      "execution_count": null,
      "outputs": []
    },
    {
      "metadata": {
        "_uuid": "159712b7a1c4cc107e979bbae1e5e23e080430d9"
      },
      "cell_type": "markdown",
      "source": "Exercises\n=========\n\n-  Try with a different dataset\n\n   -  Another language pair\n   -  Human → Machine (e.g. IOT commands)\n   -  Chat → Response\n   -  Question → Answer\n\n-  Replace the embeddings with pre-trained word embeddings such as word2vec or\n   GloVe\n-  Try with more layers, more hidden units, and more sentences. Compare\n   the training time and results.\n-  If you use a translation file where pairs have two of the same phrase\n   (``I am test \\t I am test``), you can use this as an autoencoder. Try\n   this:\n\n   -  Train as an autoencoder\n   -  Save only the Encoder network\n   -  Train a new Decoder for translation from there\n\n\n"
    },
    {
      "metadata": {
        "trusted": true,
        "_uuid": "b724d2ce24e1688e568e7db760df9b26d19154ff",
        "_kg_hide-output": false
      },
      "cell_type": "code",
      "source": "!pip3 install pytorch-pretrained-bert",
      "execution_count": null,
      "outputs": []
    },
    {
      "metadata": {
        "trusted": true,
        "_uuid": "4bbd8f160f13233c4b9aeb4c03d918fb6c63a471"
      },
      "cell_type": "code",
      "source": "import torch\nfrom pytorch_pretrained_bert import BertTokenizer, BertModel, BertForMaskedLM, BertForSequenceClassification\n\n# Load pre-trained model tokenizer (vocabulary)\ntokenizer = BertTokenizer.from_pretrained('bert-base-uncased')\n\n# Tokenized input\ntext = \"Who was Jim Henson ? Jim Henson was a puppeteer\"\ntokenized_text = tokenizer.tokenize(text)\n\n# Mask a token that we will try to predict back with `BertForMaskedLM`\nmasked_index = 6\ntokenized_text[masked_index] = '[MASK]'\nassert tokenized_text == ['who', 'was', 'jim', 'henson', '?', 'jim', '[MASK]', 'was', 'a', 'puppet', '##eer']\n\n# Convert token to vocabulary indices\nindexed_tokens = tokenizer.convert_tokens_to_ids(tokenized_text)\n# Define sentence A and B indices associated to 1st and 2nd sentences (see paper)\nsegments_ids = [0, 0, 0, 0, 0, 1, 1, 1, 1, 1, 1]\n\n# Convert inputs to PyTorch tensors\ntokens_tensor = torch.tensor([indexed_tokens])\nsegments_tensors = torch.tensor([segments_ids])",
      "execution_count": null,
      "outputs": []
    },
    {
      "metadata": {
        "trusted": true,
        "_uuid": "bdfcea68cef89f63915c20de1cec7cf03ecca981"
      },
      "cell_type": "code",
      "source": "# Load pre-trained model (weights)\nmodel = BertModel.from_pretrained('bert-base-uncased')\nmodel.eval()\n\n# Predict hidden states features for each layer\nencoded_layers, _ = model(tokens_tensor, segments_tensors)\n# We have a hidden states for each of the 12 layers in model bert-base-uncased\nassert len(encoded_layers) == 12",
      "execution_count": null,
      "outputs": []
    },
    {
      "metadata": {
        "trusted": true,
        "_uuid": "cd38381905c27d3dc1bed70b3d2c16a901ed22cc"
      },
      "cell_type": "code",
      "source": "# Load pre-trained model (weights)\nmodel = BertForMaskedLM.from_pretrained('bert-base-uncased')\nmodel.eval()\n\n# Predict all tokens\npredictions = model(tokens_tensor, segments_tensors)\n\n# confirm we were able to predict 'henson'\npredicted_index = torch.argmax(predictions[0, masked_index]).item()\npredicted_token = tokenizer.convert_ids_to_tokens([predicted_index])[0]\nassert predicted_token == 'henson'",
      "execution_count": null,
      "outputs": []
    },
    {
      "metadata": {
        "trusted": true,
        "_uuid": "34e1b7c9ecbd55a718b8c242b7aae9dd1fc56c27"
      },
      "cell_type": "code",
      "source": "print(encoded_layers[1].size())",
      "execution_count": null,
      "outputs": []
    },
    {
      "metadata": {
        "trusted": true,
        "_uuid": "2bfa208048e45b81bd5f89c5b83bdeb7bdb6d314"
      },
      "cell_type": "code",
      "source": "print(_.size())",
      "execution_count": null,
      "outputs": []
    },
    {
      "metadata": {
        "trusted": true,
        "_uuid": "e754d92b39e7d2a1061d74d9afc7b21d58d7096e"
      },
      "cell_type": "code",
      "source": "def swish(x):\n    return x * torch.sigmoid(x)\n\nclass BERTEncoder(BertForSequenceClassification):\n    def __init__(self, config, num_labels=2):\n        super(BERTEncoder, self).__init__(config)\n        self.num_labels = num_labels\n        self.bert = BertModel(config)\n        self.dropout = nn.Dropout(config.hidden_dropout_prob)\n        self.classifier = nn.Linear(config.hidden_size, num_labels)\n        self.apply(self.init_bert_weights)\n        \n    \n\n    def forward(self, input_ids, token_type_ids=None, attention_mask=None, labels=None):\n        _, pooled_output = self.bert(input_ids, token_type_ids, attention_mask, output_all_encoded_layers=False)\n        pooled_output = self.dropout(pooled_output)\n        logits = self.classifier(pooled_output)\n        logits = swish(logits)\n\n        if labels is not None:\n            loss_fct = CrossEntropyLoss()\n            loss = loss_fct(logits.view(-1, self.num_labels), labels.view(-1))\n            return loss\n        else:\n            return logits\n    \n    \n",
      "execution_count": null,
      "outputs": []
    },
    {
      "metadata": {
        "trusted": true,
        "_uuid": "2c26b3803d2a62a763323c9a377b8dc684c860ab"
      },
      "cell_type": "code",
      "source": "model = BERTEncoder.from_pretrained('bert-base-uncased')\nmodel.eval()\n\n# Predict all tokens\npredictions = model(tokens_tensor)",
      "execution_count": null,
      "outputs": []
    },
    {
      "metadata": {
        "trusted": true,
        "scrolled": false,
        "_uuid": "4f8e6638b28a84548e425ac8b59ff8382a60ed7d"
      },
      "cell_type": "code",
      "source": "print(predictions.size())",
      "execution_count": null,
      "outputs": []
    },
    {
      "metadata": {
        "trusted": true,
        "_uuid": "3e5a16e92bf320a577db5e5299e01149801227c3"
      },
      "cell_type": "code",
      "source": "device = 'cpu'\nMAX_LENGTH=15\nencoder1 = EncoderRNN(30000, hidden_size).to(device)\nencoder_hidden = encoder1.initHidden()\n\ninput_tens = tokens_tensor.to(device)\ninput_tens = input_tens.squeeze(0)\nprint(input_tens.size())\nencoder_outputs = torch.zeros(MAX_LENGTH, encoder1.hidden_size, device=device)\n\nfor ei in range(input_tens.size()[0]):\n    print(ei)\n    encoder_output, encoder_hidden = encoder1(input_tens[ei], encoder_hidden)\n    encoder_outputs[ei] += encoder_output[0, 0]",
      "execution_count": null,
      "outputs": []
    },
    {
      "metadata": {
        "trusted": true,
        "_uuid": "eae6d04c0d2f70077a69633be68f8dd98c7a59ab"
      },
      "cell_type": "code",
      "source": "print(input_tens)",
      "execution_count": null,
      "outputs": []
    },
    {
      "metadata": {
        "trusted": true,
        "_uuid": "2413324d83910ec185d44274a6ddcebb767ec512"
      },
      "cell_type": "code",
      "source": "thing1, thing2 = encoder1(input_tens[0], encoder_hidden)",
      "execution_count": null,
      "outputs": []
    },
    {
      "metadata": {
        "trusted": true,
        "_uuid": "638255b8e82b769dc061c43ab19d5bfc9f98a05e"
      },
      "cell_type": "code",
      "source": "print(thing1.size())",
      "execution_count": null,
      "outputs": []
    },
    {
      "metadata": {
        "trusted": true,
        "_uuid": "da47332ddd82db5c44d0f7bdcede7f548029e67d"
      },
      "cell_type": "code",
      "source": "print(thing2.size())",
      "execution_count": null,
      "outputs": []
    },
    {
      "metadata": {
        "trusted": true,
        "_uuid": "cf9c73e9a2be34eae5e91dad37d47013716b2a70"
      },
      "cell_type": "code",
      "source": "hidden_size = 256\nenc = BertForSequenceClassification.from_pretrained('bert-base-uncased', num_labels=hidden_size).to(device)\ndecoder1 = DecoderRNN(hidden_size, output_lang.n_words).to(device)",
      "execution_count": null,
      "outputs": []
    },
    {
      "metadata": {
        "trusted": true,
        "_uuid": "51dc184464d841791ca19062d9cd734f25c64c3b"
      },
      "cell_type": "code",
      "source": "teacher_forcing_ratio = 0.5\n\n\ndef trainBert(input_tensor, target_tensor, encoder, decoder, encoder_optimizer, decoder_optimizer, criterion, max_length=MAX_LENGTH):\n\n    encoder_optimizer.zero_grad()\n    decoder_optimizer.zero_grad()\n\n    input_length = input_tensor.size(0)\n    target_length = target_tensor.size(0)\n\n    #encoder_outputs = torch.zeros(max_length, encoder.hidden_size, device=device)\n\n    loss = 0\n    \n    encoder_hidden = encoder(input_tensor)\n    \n    encoder_hidden = encoder_hidden.unsqueeze(0)\n\n    #for ei in range(input_length):\n        #encoder_output, encoder_hidden = encoder(\n            #input_tensor[ei], encoder_hidden)\n        #encoder_outputs[ei] = encoder_output[0, 0]\n\n    decoder_input = torch.tensor([[SOS_token]], device=device)\n\n    decoder_hidden = encoder_hidden\n\n    use_teacher_forcing = True if random.random() < teacher_forcing_ratio else False\n\n    if use_teacher_forcing:\n        # Teacher forcing: Feed the target as the next input\n        for di in range(target_length):\n            decoder_output, decoder_hidden = decoder(\n                decoder_input, decoder_hidden)\n            loss += criterion(decoder_output, target_tensor[di])\n            decoder_input = target_tensor[di]  # Teacher forcing\n\n    else:\n        # Without teacher forcing: use its own predictions as the next input\n        for di in range(target_length):\n            decoder_output, decoder_hidden = decoder(\n                decoder_input, decoder_hidden)\n            topv, topi = decoder_output.topk(1)\n            decoder_input = topi.squeeze().detach()  # detach from history as input\n\n            loss += criterion(decoder_output, target_tensor[di])\n            if decoder_input.item() == EOS_token:\n                break\n\n    loss.backward()\n\n    encoder_optimizer.step()\n    decoder_optimizer.step()\n\n    return loss.item() / target_length",
      "execution_count": null,
      "outputs": []
    },
    {
      "metadata": {
        "trusted": true,
        "_uuid": "8e60c043bf9f688707fae9ed1fbf66a4a7777c50"
      },
      "cell_type": "code",
      "source": "def trainItersBert(encoder, decoder, n_iters, print_every=1000, plot_every=100, learning_rate=0.01, mom=0):\n    start = time.time()\n    plot_losses = []\n    print_loss_total = 0  # Reset every print_every\n    plot_loss_total = 0  # Reset every plot_every\n\n    encoder_optimizer = optim.SGD(encoder.parameters(), lr=learning_rate, momentum=mom)\n    decoder_optimizer = optim.SGD(decoder.parameters(), lr=learning_rate, momentum=mom)\n    \n    #encoder_optimizer = optim.Adam(encoder.parameters(), lr=learning_rate, amsgrad=True)\n    #encoder_scheduler = optim.lr_scheduler.CosineAnnealingLR(encoder_optimizer, n_iters)\n    #decoder_optimizer = optim.Adam(decoder.parameters(), lr=learning_rate, amsgrad=True)\n    #decoder_scheduler = optim.lr_scheduler.CosineAnnealingLR(decoder_optimizer, n_iters)                                                       \n                                                       \n    training_pairs = [tensorsFromPair(random.choice(pairs))\n                      for i in range(n_iters)]\n    criterion = nn.NLLLoss()\n\n    for iter in range(1, n_iters + 1):\n        #encoder_scheduler.step()\n        #decoder_scheduler.step()\n        \n        training_pair = training_pairs[iter - 1]\n        input_tensor = training_pair[0]\n        target_tensor = training_pair[1]\n        input_tensor.transpose_(0,1)\n        #print(input_tensor.size())\n\n        loss = trainBert(input_tensor, target_tensor, encoder,\n                     decoder, encoder_optimizer, decoder_optimizer, criterion)\n        print_loss_total += loss\n        plot_loss_total += loss\n\n        if iter % print_every == 0:\n            print_loss_avg = print_loss_total / print_every\n            print_loss_total = 0\n            print('%s (%d %d%%) %.4f' % (timeSince(start, iter / n_iters),\n                                         iter, iter / n_iters * 100, print_loss_avg))\n\n        if iter % plot_every == 0:\n            plot_loss_avg = plot_loss_total / plot_every\n            plot_losses.append(plot_loss_avg)\n            plot_loss_total = 0\n\n    showPlot(plot_losses)",
      "execution_count": null,
      "outputs": []
    },
    {
      "metadata": {
        "trusted": true,
        "_uuid": "fca6c8cc43344dd8aa3d011f96ed34bcb7800789"
      },
      "cell_type": "code",
      "source": "trainItersBert(enc, decoder1, 75000, print_every=500)",
      "execution_count": null,
      "outputs": []
    },
    {
      "metadata": {
        "trusted": true,
        "_uuid": "027a6413a78d1aac6955f6629b1e9dc2480ecdc8"
      },
      "cell_type": "code",
      "source": "seq = BertForSequenceClassification.from_pretrained('bert-base-uncased', num_labels=hidden_size)",
      "execution_count": null,
      "outputs": []
    },
    {
      "metadata": {
        "trusted": true,
        "_uuid": "57c70b5f1745511d74b1810f1f7d499193810021"
      },
      "cell_type": "code",
      "source": "out = seq(tokens_tensor)",
      "execution_count": null,
      "outputs": []
    },
    {
      "metadata": {
        "trusted": true,
        "_uuid": "fbbfd2b7fb07ac5d52406ac0e3551e104f1f45b2"
      },
      "cell_type": "code",
      "source": "print(out.size())",
      "execution_count": null,
      "outputs": []
    },
    {
      "metadata": {
        "trusted": true,
        "_uuid": "fb25af4181f74d595d67e96eceb8d65affae0f2d"
      },
      "cell_type": "code",
      "source": "print(tokens_tensor.size())",
      "execution_count": null,
      "outputs": []
    },
    {
      "metadata": {
        "trusted": true,
        "_uuid": "cba7f1ba9f434b67ac8590d2ca26d968ef956615"
      },
      "cell_type": "code",
      "source": "decoder1 = DecoderRNN(hidden_size, output_lang.n_words).to(device)",
      "execution_count": null,
      "outputs": []
    },
    {
      "metadata": {
        "trusted": true,
        "_uuid": "f19c0f980381d3d71f37a81b6eabf3a3868a3a06"
      },
      "cell_type": "code",
      "source": "enc2 = BERTEncoder.from_pretrained('bert-base-multilingual-cased', num_labels=hidden_size).to(device)",
      "execution_count": null,
      "outputs": []
    },
    {
      "metadata": {
        "trusted": true,
        "_uuid": "38900de78dfda67c88d6890e3fe6c4572bd2b3fe"
      },
      "cell_type": "code",
      "source": "trainItersBert(enc2, decoder1, 75000, print_every=500, learning_rate=0.01, mom=0.001)",
      "execution_count": null,
      "outputs": []
    },
    {
      "metadata": {
        "trusted": true,
        "_uuid": "348edb44f1aab7c30ae2b0e3e0d0a04c13df5582"
      },
      "cell_type": "code",
      "source": "",
      "execution_count": null,
      "outputs": []
    },
    {
      "metadata": {
        "trusted": true,
        "_uuid": "abe769c6ac16d7521ad88c11d5a85d5405d6ab6b"
      },
      "cell_type": "code",
      "source": "",
      "execution_count": null,
      "outputs": []
    },
    {
      "metadata": {
        "trusted": true,
        "_uuid": "14a5529c314cc5c7cea6ff013f6b00fbfe117c36"
      },
      "cell_type": "code",
      "source": "",
      "execution_count": null,
      "outputs": []
    },
    {
      "metadata": {
        "trusted": true,
        "_uuid": "ceebce934c0ab4c21558300eccc89c5b6415b78c"
      },
      "cell_type": "code",
      "source": "",
      "execution_count": null,
      "outputs": []
    },
    {
      "metadata": {
        "trusted": true,
        "_uuid": "72b221cbe14856e162840837c6d9e5e75d74a434"
      },
      "cell_type": "code",
      "source": "",
      "execution_count": null,
      "outputs": []
    }
  ],
  "metadata": {
    "kernelspec": {
      "display_name": "Python 3",
      "language": "python",
      "name": "python3"
    },
    "language_info": {
      "name": "python",
      "version": "3.6.6",
      "mimetype": "text/x-python",
      "codemirror_mode": {
        "name": "ipython",
        "version": 3
      },
      "pygments_lexer": "ipython3",
      "nbconvert_exporter": "python",
      "file_extension": ".py"
    }
  },
  "nbformat": 4,
  "nbformat_minor": 1
}